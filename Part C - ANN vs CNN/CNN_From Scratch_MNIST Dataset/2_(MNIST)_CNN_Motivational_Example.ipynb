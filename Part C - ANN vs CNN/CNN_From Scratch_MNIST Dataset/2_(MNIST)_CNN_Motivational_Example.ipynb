{
 "cells": [
  {
   "cell_type": "markdown",
   "metadata": {
    "id": "trF1GjSVs3Q2"
   },
   "source": [
    "Copyright 2021 Victor I A.\n",
    "\n",
    "&emsp;\n",
    "\n",
    "Licensed under the Apache License, Version 2.0 (the \"License\");\n",
    "\n",
    "you may not use this file except in compliance with the License.\n",
    "\n",
    "You may obtain a copy of the License at\n",
    "\n",
    "\n",
    "&emsp;https://www.apache.org/licenses/LICENSE-2.0\n",
    "\n",
    "\n",
    "Unless required by applicable law or agreed to in writing, software\n",
    "\n",
    "distributed under the License is distributed on an \"AS IS\" BASIS,\n",
    "\n",
    "WITHOUT WARRANTIES OR CONDITIONS OF ANY KIND, either express or implied.\n",
    "\n",
    "See the License for the specific language governing permissions and\n",
    "\n",
    "limitations under the License."
   ]
  },
  {
   "cell_type": "markdown",
   "metadata": {
    "id": "N7WcE6x_dNdq"
   },
   "source": [
    "# Motivational Example\n"
   ]
  },
  {
   "cell_type": "markdown",
   "metadata": {
    "id": "MXSqMvuBdNdr"
   },
   "source": [
    "## Artificial Neural Networks (ANN)"
   ]
  },
  {
   "cell_type": "code",
   "execution_count": 8,
   "metadata": {
    "ExecuteTime": {
     "end_time": "2021-05-23T13:22:01.256152Z",
     "start_time": "2021-05-23T13:22:01.221245Z"
    },
    "colab": {
     "base_uri": "https://localhost:8080/",
     "height": 34
    },
    "id": "9e_hRrm1eIiZ",
    "outputId": "a6a3ddf3-6e6a-4e9b-e181-39c12d62e39d"
   },
   "outputs": [
    {
     "data": {
      "text/plain": [
       "'2.4.1'"
      ]
     },
     "execution_count": 8,
     "metadata": {},
     "output_type": "execute_result"
    }
   ],
   "source": [
    "import numpy as np\n",
    "import tensorflow as tf\n",
    "tf.__version__"
   ]
  },
  {
   "cell_type": "code",
   "execution_count": 12,
   "metadata": {
    "ExecuteTime": {
     "end_time": "2021-05-23T13:46:02.851598Z",
     "start_time": "2021-05-23T13:46:02.471783Z"
    },
    "colab": {
     "base_uri": "https://localhost:8080/",
     "height": 51
    },
    "id": "-4QLBu81eMba",
    "outputId": "133ed998-6b30-498d-8433-c1b60813591f"
   },
   "outputs": [],
   "source": [
    "mnist = tf.keras.datasets.mnist\n",
    "(x_train, y_train), (x_test, y_test) = mnist.load_data()\n",
    "x_train, x_test = x_train / 255.0, x_test / 255.0 #Normalize to uint8\n",
    "\n",
    "\n",
    "x_train_dat = x_train[:50000] #Array slicing \n",
    "x_val = x_train[50000:]\n",
    "y_train_dat = y_train[:50000]\n",
    "y_val = y_train[50000:]"
   ]
  },
  {
   "cell_type": "code",
   "execution_count": 13,
   "metadata": {
    "ExecuteTime": {
     "end_time": "2021-05-23T13:46:43.777188Z",
     "start_time": "2021-05-23T13:46:03.893690Z"
    },
    "colab": {
     "base_uri": "https://localhost:8080/",
     "height": 666
    },
    "id": "-2V6px3jeYBg",
    "outputId": "9197f21e-b3ed-4e38-b9aa-9e0cf85cd218"
   },
   "outputs": [
    {
     "name": "stdout",
     "output_type": "stream",
     "text": [
      "Model: \"sequential_5\"\n",
      "_________________________________________________________________\n",
      "Layer (type)                 Output Shape              Param #   \n",
      "=================================================================\n",
      "flatten_5 (Flatten)          (None, 784)               0         \n",
      "_________________________________________________________________\n",
      "dense_10 (Dense)             (None, 512)               401920    \n",
      "_________________________________________________________________\n",
      "dense_11 (Dense)             (None, 10)                5130      \n",
      "=================================================================\n",
      "Total params: 407,050\n",
      "Trainable params: 407,050\n",
      "Non-trainable params: 0\n",
      "_________________________________________________________________\n",
      "Epoch 1/10\n",
      "782/782 [==============================] - 5s 5ms/step - loss: 0.4005 - accuracy: 0.8798 - val_loss: 0.1192 - val_accuracy: 0.9651\n",
      "Epoch 2/10\n",
      "782/782 [==============================] - 4s 5ms/step - loss: 0.1051 - accuracy: 0.9690 - val_loss: 0.0942 - val_accuracy: 0.9715\n",
      "Epoch 3/10\n",
      "782/782 [==============================] - 4s 5ms/step - loss: 0.0683 - accuracy: 0.9795 - val_loss: 0.0840 - val_accuracy: 0.9765\n",
      "Epoch 4/10\n",
      "782/782 [==============================] - 4s 5ms/step - loss: 0.0459 - accuracy: 0.9851 - val_loss: 0.0786 - val_accuracy: 0.9785\n",
      "Epoch 5/10\n",
      "782/782 [==============================] - 4s 5ms/step - loss: 0.0343 - accuracy: 0.9890 - val_loss: 0.0772 - val_accuracy: 0.9790\n",
      "Epoch 6/10\n",
      "782/782 [==============================] - 4s 5ms/step - loss: 0.0259 - accuracy: 0.9924 - val_loss: 0.0799 - val_accuracy: 0.9784\n",
      "Epoch 7/10\n",
      "782/782 [==============================] - 4s 5ms/step - loss: 0.0213 - accuracy: 0.9933 - val_loss: 0.0794 - val_accuracy: 0.9814\n",
      "Epoch 8/10\n",
      "782/782 [==============================] - 4s 5ms/step - loss: 0.0152 - accuracy: 0.9955 - val_loss: 0.0928 - val_accuracy: 0.9797\n",
      "Epoch 9/10\n",
      "782/782 [==============================] - 4s 5ms/step - loss: 0.0121 - accuracy: 0.9962 - val_loss: 0.0933 - val_accuracy: 0.9805\n",
      "Epoch 10/10\n",
      "782/782 [==============================] - 4s 5ms/step - loss: 0.0087 - accuracy: 0.9975 - val_loss: 0.0892 - val_accuracy: 0.9812\n",
      "313/313 [==============================] - 0s 886us/step - loss: 0.0799 - accuracy: 0.9812\n",
      "0.9811999797821045\n"
     ]
    }
   ],
   "source": [
    "ann = tf.keras.Sequential([\n",
    "    tf.keras.layers.Flatten(input_shape=(28, 28)),\n",
    "    tf.keras.layers.Dense(units=512, activation='relu'),\n",
    "    tf.keras.layers.Dense(units=10,activation='softmax'),\n",
    "])\n",
    "ann.summary()\n",
    "ann.compile(optimizer='rmsprop',\n",
    "              loss='sparse_categorical_crossentropy',\n",
    "              metrics=['accuracy'])\n",
    "ann.fit(x_train_dat, y_train_dat, epochs=10,\n",
    "        batch_size=64,\n",
    "        validation_data=(x_val, y_val))\n",
    "eval_loss, eval_acc = ann.evaluate(x_test, \n",
    "                                   y_test)\n",
    "print(eval_acc)"
   ]
  },
  {
   "cell_type": "markdown",
   "metadata": {
    "id": "83qXgR_ydNdy"
   },
   "source": [
    "## Convolutional Neural Networks (CNN)"
   ]
  },
  {
   "cell_type": "code",
   "execution_count": 14,
   "metadata": {
    "ExecuteTime": {
     "end_time": "2021-05-23T13:50:50.313593Z",
     "start_time": "2021-05-23T13:50:49.866056Z"
    },
    "id": "S2L-gfLbgEYo"
   },
   "outputs": [],
   "source": [
    "mnist = tf.keras.datasets.mnist\n",
    "(x_train, y_train), (x_test, y_test) = mnist.load_data()\n",
    "x_train = x_train.reshape((60000, 28, 28, 1))\n",
    "x_test = x_test.reshape((10000, 28, 28, 1))\n",
    "x_train, x_test = x_train.astype('float32')  / 255.0, x_test.astype('float32')  / 255.0\n",
    "\n",
    "x_train_dat = x_train[:50000]\n",
    "x_val = x_train[50000:]\n",
    "y_train_dat = y_train[:50000]\n",
    "y_val = y_train[50000:]"
   ]
  },
  {
   "cell_type": "code",
   "execution_count": 15,
   "metadata": {
    "ExecuteTime": {
     "end_time": "2021-05-23T13:54:53.827549Z",
     "start_time": "2021-05-23T13:51:44.214601Z"
    },
    "colab": {
     "base_uri": "https://localhost:8080/",
     "height": 836
    },
    "id": "2SDVhV1lfctv",
    "outputId": "7bc055d1-df18-442f-fc87-c689e000c5b8"
   },
   "outputs": [
    {
     "name": "stdout",
     "output_type": "stream",
     "text": [
      "Model: \"sequential_6\"\n",
      "_________________________________________________________________\n",
      "Layer (type)                 Output Shape              Param #   \n",
      "=================================================================\n",
      "conv2d_9 (Conv2D)            (None, 26, 26, 32)        320       \n",
      "_________________________________________________________________\n",
      "max_pooling2d_6 (MaxPooling2 (None, 13, 13, 32)        0         \n",
      "_________________________________________________________________\n",
      "conv2d_10 (Conv2D)           (None, 11, 11, 64)        18496     \n",
      "_________________________________________________________________\n",
      "max_pooling2d_7 (MaxPooling2 (None, 5, 5, 64)          0         \n",
      "_________________________________________________________________\n",
      "conv2d_11 (Conv2D)           (None, 3, 3, 64)          36928     \n",
      "_________________________________________________________________\n",
      "flatten_6 (Flatten)          (None, 576)               0         \n",
      "_________________________________________________________________\n",
      "dense_12 (Dense)             (None, 64)                36928     \n",
      "_________________________________________________________________\n",
      "dense_13 (Dense)             (None, 10)                650       \n",
      "=================================================================\n",
      "Total params: 93,322\n",
      "Trainable params: 93,322\n",
      "Non-trainable params: 0\n",
      "_________________________________________________________________\n",
      "Epoch 1/10\n",
      "782/782 [==============================] - 19s 23ms/step - loss: 0.4603 - accuracy: 0.8547 - val_loss: 0.0757 - val_accuracy: 0.9774\n",
      "Epoch 2/10\n",
      "782/782 [==============================] - 18s 23ms/step - loss: 0.0514 - accuracy: 0.9849 - val_loss: 0.0812 - val_accuracy: 0.9763\n",
      "Epoch 3/10\n",
      "782/782 [==============================] - 18s 23ms/step - loss: 0.0341 - accuracy: 0.9891 - val_loss: 0.0405 - val_accuracy: 0.9882\n",
      "Epoch 4/10\n",
      "782/782 [==============================] - 19s 24ms/step - loss: 0.0254 - accuracy: 0.9918 - val_loss: 0.0383 - val_accuracy: 0.9895\n",
      "Epoch 5/10\n",
      "782/782 [==============================] - 19s 24ms/step - loss: 0.0207 - accuracy: 0.9934 - val_loss: 0.0390 - val_accuracy: 0.9898\n",
      "Epoch 6/10\n",
      "782/782 [==============================] - 19s 25ms/step - loss: 0.0144 - accuracy: 0.9956 - val_loss: 0.0478 - val_accuracy: 0.9888\n",
      "Epoch 7/10\n",
      "782/782 [==============================] - 19s 24ms/step - loss: 0.0112 - accuracy: 0.9967 - val_loss: 0.0441 - val_accuracy: 0.9895\n",
      "Epoch 8/10\n",
      "782/782 [==============================] - 19s 25ms/step - loss: 0.0091 - accuracy: 0.9973 - val_loss: 0.0407 - val_accuracy: 0.9903\n",
      "Epoch 9/10\n",
      "782/782 [==============================] - 19s 25ms/step - loss: 0.0074 - accuracy: 0.9974 - val_loss: 0.0456 - val_accuracy: 0.9899\n",
      "Epoch 10/10\n",
      "782/782 [==============================] - 19s 24ms/step - loss: 0.0057 - accuracy: 0.9979 - val_loss: 0.0477 - val_accuracy: 0.9920\n",
      "313/313 [==============================] - 1s 4ms/step - loss: 0.0383 - accuracy: 0.9919\n",
      "0.9919000267982483\n"
     ]
    }
   ],
   "source": [
    "cnn = tf.keras.Sequential([\n",
    "    tf.keras.layers.Conv2D(32, (3, 3), activation='relu', input_shape=(28, 28, 1)),\n",
    "    tf.keras.layers.MaxPooling2D(2, 2),\n",
    "    \n",
    "    tf.keras.layers.Conv2D(64, (3, 3), activation='relu'),\n",
    "    tf.keras.layers.MaxPooling2D(2, 2),\n",
    "    \n",
    "    tf.keras.layers.Conv2D(64, (3, 3), activation='relu'),\n",
    "    tf.keras.layers.Flatten(), \n",
    "    tf.keras.layers.Dense(64, activation='relu'), \n",
    "    tf.keras.layers.Dense(10, activation='softmax')\n",
    "])\n",
    "\n",
    "cnn.summary()\n",
    "\n",
    "cnn.compile(optimizer='rmsprop',\n",
    "              loss='sparse_categorical_crossentropy',\n",
    "              metrics=['accuracy'])\n",
    "cnn.fit(x_train_dat, y_train_dat, epochs=10,\n",
    "        batch_size=64,\n",
    "        validation_data=(x_val, y_val))\n",
    "eval_loss, eval_acc = cnn.evaluate(x_test, y_test)\n",
    "print(eval_acc)"
   ]
  },
  {
   "cell_type": "markdown",
   "metadata": {
    "id": "spLVmh1ndNd0"
   },
   "source": [
    "### Without padding"
   ]
  },
  {
   "cell_type": "code",
   "execution_count": 6,
   "metadata": {
    "ExecuteTime": {
     "end_time": "2021-05-23T11:24:37.261778Z",
     "start_time": "2021-05-23T11:21:51.400333Z"
    },
    "colab": {
     "base_uri": "https://localhost:8080/",
     "height": 853
    },
    "id": "HT3mHG1wdNd1",
    "outputId": "9715986a-534d-419b-ed52-f6222a99ce2b",
    "scrolled": false
   },
   "outputs": [
    {
     "name": "stdout",
     "output_type": "stream",
     "text": [
      "Epoch 1/10\n",
      "782/782 [==============================] - 16s 20ms/step - loss: 0.4407 - accuracy: 0.8586 - val_loss: 0.0596 - val_accuracy: 0.9814\n",
      "Epoch 2/10\n",
      "782/782 [==============================] - 17s 22ms/step - loss: 0.0528 - accuracy: 0.9839 - val_loss: 0.0487 - val_accuracy: 0.9846\n",
      "Epoch 3/10\n",
      "782/782 [==============================] - 17s 21ms/step - loss: 0.0342 - accuracy: 0.9887 - val_loss: 0.0383 - val_accuracy: 0.9893\n",
      "Epoch 4/10\n",
      "782/782 [==============================] - 16s 20ms/step - loss: 0.0248 - accuracy: 0.9927 - val_loss: 0.0412 - val_accuracy: 0.9883\n",
      "Epoch 5/10\n",
      "782/782 [==============================] - 16s 20ms/step - loss: 0.0209 - accuracy: 0.9940 - val_loss: 0.0354 - val_accuracy: 0.9909\n",
      "Epoch 6/10\n",
      "782/782 [==============================] - 16s 20ms/step - loss: 0.0153 - accuracy: 0.9946 - val_loss: 0.0445 - val_accuracy: 0.9901\n",
      "Epoch 7/10\n",
      "782/782 [==============================] - 16s 21ms/step - loss: 0.0121 - accuracy: 0.9961 - val_loss: 0.0424 - val_accuracy: 0.9903\n",
      "Epoch 8/10\n",
      "782/782 [==============================] - 17s 22ms/step - loss: 0.0095 - accuracy: 0.9968 - val_loss: 0.0388 - val_accuracy: 0.9912\n",
      "Epoch 9/10\n",
      "782/782 [==============================] - 17s 22ms/step - loss: 0.0074 - accuracy: 0.9976 - val_loss: 0.0429 - val_accuracy: 0.9909\n",
      "Epoch 10/10\n",
      "782/782 [==============================] - 16s 21ms/step - loss: 0.0066 - accuracy: 0.9979 - val_loss: 0.0547 - val_accuracy: 0.9889\n",
      "Model: \"sequential_2\"\n",
      "_________________________________________________________________\n",
      "Layer (type)                 Output Shape              Param #   \n",
      "=================================================================\n",
      "conv2d_3 (Conv2D)            (None, 26, 26, 32)        320       \n",
      "_________________________________________________________________\n",
      "max_pooling2d_2 (MaxPooling2 (None, 13, 13, 32)        0         \n",
      "_________________________________________________________________\n",
      "conv2d_4 (Conv2D)            (None, 11, 11, 64)        18496     \n",
      "_________________________________________________________________\n",
      "max_pooling2d_3 (MaxPooling2 (None, 5, 5, 64)          0         \n",
      "_________________________________________________________________\n",
      "conv2d_5 (Conv2D)            (None, 3, 3, 64)          36928     \n",
      "_________________________________________________________________\n",
      "flatten_2 (Flatten)          (None, 576)               0         \n",
      "_________________________________________________________________\n",
      "dense_4 (Dense)              (None, 64)                36928     \n",
      "_________________________________________________________________\n",
      "dense_5 (Dense)              (None, 10)                650       \n",
      "=================================================================\n",
      "Total params: 93,322\n",
      "Trainable params: 93,322\n",
      "Non-trainable params: 0\n",
      "_________________________________________________________________\n",
      "None\n",
      "313/313 [==============================] - 1s 3ms/step - loss: 0.0450 - accuracy: 0.9906\n",
      "0.9905999898910522\n"
     ]
    }
   ],
   "source": [
    "cnn = tf.keras.Sequential([\n",
    "    tf.keras.layers.Conv2D(32, (3, 3), activation='relu', input_shape=(28, 28, 1)), \n",
    "    tf.keras.layers.MaxPooling2D(2, 2), \n",
    "    tf.keras.layers.Conv2D(64, (3, 3), activation='relu'), \n",
    "    tf.keras.layers.MaxPooling2D(2, 2), \n",
    "    tf.keras.layers.Conv2D(64, (3, 3), activation='relu'), \n",
    "    tf.keras.layers.Flatten(), \n",
    "    tf.keras.layers.Dense(64, activation='relu'), \n",
    "    tf.keras.layers.Dense(10, activation='softmax')\n",
    "])\n",
    "cnn.compile(optimizer='rmsprop',\n",
    "            loss='sparse_categorical_crossentropy',\n",
    "            metrics=['accuracy'])\n",
    "cnn.fit(x_train_dat, y_train_dat, epochs=10,\n",
    "        batch_size=64, \n",
    "        validation_data=(x_val, y_val));\n",
    "print(cnn.summary())\n",
    "test_loss, test_acc = cnn.evaluate(x_test, y_test)\n",
    "print(test_acc)"
   ]
  },
  {
   "cell_type": "markdown",
   "metadata": {
    "id": "5VHnzCEHdNd2"
   },
   "source": [
    "***"
   ]
  },
  {
   "cell_type": "markdown",
   "metadata": {
    "id": "OzmUtCsFdNd3"
   },
   "source": [
    "### With padding=\"same\""
   ]
  },
  {
   "cell_type": "code",
   "execution_count": 7,
   "metadata": {
    "ExecuteTime": {
     "end_time": "2021-05-23T11:28:15.546516Z",
     "start_time": "2021-05-23T11:24:37.279732Z"
    },
    "colab": {
     "base_uri": "https://localhost:8080/",
     "height": 231
    },
    "id": "TUrbNimpdNd3",
    "outputId": "dfda7113-da89-4ccd-da5c-657c5f36be42"
   },
   "outputs": [
    {
     "name": "stdout",
     "output_type": "stream",
     "text": [
      "Epoch 1/10\n",
      "782/782 [==============================] - 19s 24ms/step - loss: 0.4140 - accuracy: 0.8642 - val_loss: 0.0781 - val_accuracy: 0.9771\n",
      "Epoch 2/10\n",
      "782/782 [==============================] - 21s 27ms/step - loss: 0.0509 - accuracy: 0.9852 - val_loss: 0.0445 - val_accuracy: 0.9881\n",
      "Epoch 3/10\n",
      "782/782 [==============================] - 21s 27ms/step - loss: 0.0318 - accuracy: 0.9905 - val_loss: 0.0418 - val_accuracy: 0.9878\n",
      "Epoch 4/10\n",
      "782/782 [==============================] - 21s 27ms/step - loss: 0.0220 - accuracy: 0.9931 - val_loss: 0.0435 - val_accuracy: 0.9889\n",
      "Epoch 5/10\n",
      "782/782 [==============================] - 23s 29ms/step - loss: 0.0176 - accuracy: 0.9947 - val_loss: 0.0346 - val_accuracy: 0.9910\n",
      "Epoch 6/10\n",
      "782/782 [==============================] - 22s 28ms/step - loss: 0.0134 - accuracy: 0.9960 - val_loss: 0.0431 - val_accuracy: 0.9908\n",
      "Epoch 7/10\n",
      "782/782 [==============================] - 23s 29ms/step - loss: 0.0119 - accuracy: 0.9961 - val_loss: 0.0277 - val_accuracy: 0.9929\n",
      "Epoch 8/10\n",
      "782/782 [==============================] - 22s 28ms/step - loss: 0.0076 - accuracy: 0.9977 - val_loss: 0.0493 - val_accuracy: 0.9891\n",
      "Epoch 9/10\n",
      "782/782 [==============================] - 24s 30ms/step - loss: 0.0082 - accuracy: 0.9976 - val_loss: 0.0465 - val_accuracy: 0.9918\n",
      "Epoch 10/10\n",
      "782/782 [==============================] - 22s 28ms/step - loss: 0.0055 - accuracy: 0.9981 - val_loss: 0.0420 - val_accuracy: 0.9912\n",
      "Model: \"sequential_3\"\n",
      "_________________________________________________________________\n",
      "Layer (type)                 Output Shape              Param #   \n",
      "=================================================================\n",
      "conv2d_6 (Conv2D)            (None, 28, 28, 32)        320       \n",
      "_________________________________________________________________\n",
      "max_pooling2d_4 (MaxPooling2 (None, 14, 14, 32)        0         \n",
      "_________________________________________________________________\n",
      "conv2d_7 (Conv2D)            (None, 12, 12, 64)        18496     \n",
      "_________________________________________________________________\n",
      "max_pooling2d_5 (MaxPooling2 (None, 6, 6, 64)          0         \n",
      "_________________________________________________________________\n",
      "conv2d_8 (Conv2D)            (None, 4, 4, 64)          36928     \n",
      "_________________________________________________________________\n",
      "flatten_3 (Flatten)          (None, 1024)              0         \n",
      "_________________________________________________________________\n",
      "dense_6 (Dense)              (None, 64)                65600     \n",
      "_________________________________________________________________\n",
      "dense_7 (Dense)              (None, 10)                650       \n",
      "=================================================================\n",
      "Total params: 121,994\n",
      "Trainable params: 121,994\n",
      "Non-trainable params: 0\n",
      "_________________________________________________________________\n",
      "None\n",
      "313/313 [==============================] - 1s 4ms/step - loss: 0.0396 - accuracy: 0.9911\n",
      "0.991100013256073\n"
     ]
    }
   ],
   "source": [
    "cnn = tf.keras.Sequential([\n",
    "    tf.keras.layers.Conv2D(32, (3, 3), padding='same', activation='relu', input_shape=(28, 28, 1)),\n",
    "    tf.keras.layers.MaxPooling2D(2, 2), \n",
    "    tf.keras.layers.Conv2D(64, (3, 3), activation='relu'), \n",
    "    tf.keras.layers.MaxPooling2D(2, 2), \n",
    "    tf.keras.layers.Conv2D(64, (3, 3), activation='relu'), \n",
    "    tf.keras.layers.Flatten(), \n",
    "    tf.keras.layers.Dense(64, activation='relu'), \n",
    "    tf.keras.layers.Dense(10, activation='softmax')   \n",
    "])\n",
    "cnn.compile(optimizer='rmsprop',\n",
    "            loss='sparse_categorical_crossentropy',\n",
    "            metrics=['accuracy'])\n",
    "cnn.fit(x_train_dat, y_train_dat, epochs=10,\n",
    "        batch_size=64, \n",
    "        validation_data=(x_val, y_val));\n",
    "print(cnn.summary())\n",
    "test_loss, test_acc = cnn.evaluate(x_test, y_test)\n",
    "print(test_acc)"
   ]
  },
  {
   "cell_type": "markdown",
   "metadata": {
    "id": "BiWzeuCudNd5"
   },
   "source": [
    "***"
   ]
  }
 ],
 "metadata": {
  "accelerator": "GPU",
  "colab": {
   "collapsed_sections": [],
   "name": "15 (MNIST) CNN_Motivational Example.ipynb",
   "provenance": [],
   "toc_visible": true
  },
  "hide_input": false,
  "kernelspec": {
   "display_name": "Python 3",
   "language": "python",
   "name": "python3"
  },
  "language_info": {
   "codemirror_mode": {
    "name": "ipython",
    "version": 3
   },
   "file_extension": ".py",
   "mimetype": "text/x-python",
   "name": "python",
   "nbconvert_exporter": "python",
   "pygments_lexer": "ipython3",
   "version": "3.6.13"
  },
  "nbTranslate": {
   "displayLangs": [
    "*"
   ],
   "hotkey": "alt-t",
   "langInMainMenu": true,
   "sourceLang": "en",
   "targetLang": "fr",
   "useGoogleTranslate": true
  },
  "toc": {
   "base_numbering": 1,
   "nav_menu": {},
   "number_sections": true,
   "sideBar": true,
   "skip_h1_title": false,
   "title_cell": "Table of Contents",
   "title_sidebar": "Contents",
   "toc_cell": false,
   "toc_position": {},
   "toc_section_display": true,
   "toc_window_display": false
  },
  "varInspector": {
   "cols": {
    "lenName": 16,
    "lenType": 16,
    "lenVar": 40
   },
   "kernels_config": {
    "python": {
     "delete_cmd_postfix": "",
     "delete_cmd_prefix": "del ",
     "library": "var_list.py",
     "varRefreshCmd": "print(var_dic_list())"
    },
    "r": {
     "delete_cmd_postfix": ") ",
     "delete_cmd_prefix": "rm(",
     "library": "var_list.r",
     "varRefreshCmd": "cat(var_dic_list()) "
    }
   },
   "types_to_exclude": [
    "module",
    "function",
    "builtin_function_or_method",
    "instance",
    "_Feature"
   ],
   "window_display": false
  }
 },
 "nbformat": 4,
 "nbformat_minor": 1
}
