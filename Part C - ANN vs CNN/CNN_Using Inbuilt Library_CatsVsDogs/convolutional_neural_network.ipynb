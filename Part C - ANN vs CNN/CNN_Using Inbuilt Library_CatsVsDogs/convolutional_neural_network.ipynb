{
 "cells": [
  {
   "cell_type": "markdown",
   "metadata": {
    "colab_type": "text",
    "id": "3DR-eO17geWu"
   },
   "source": [
    "# Convolutional Neural Network"
   ]
  },
  {
   "cell_type": "markdown",
   "metadata": {
    "colab_type": "text",
    "id": "EMefrVPCg-60"
   },
   "source": [
    "### Importing the libraries"
   ]
  },
  {
   "cell_type": "code",
   "execution_count": 1,
   "metadata": {
    "ExecuteTime": {
     "end_time": "2021-09-30T11:04:30.472417Z",
     "start_time": "2021-09-30T11:04:12.868723Z"
    },
    "colab": {},
    "colab_type": "code",
    "id": "sCV30xyVhFbE"
   },
   "outputs": [],
   "source": [
    "import tensorflow as tf\n",
    "from keras.preprocessing.image import ImageDataGenerator"
   ]
  },
  {
   "cell_type": "code",
   "execution_count": 2,
   "metadata": {
    "ExecuteTime": {
     "end_time": "2021-09-30T11:04:30.519345Z",
     "start_time": "2021-09-30T11:04:30.490345Z"
    },
    "colab": {},
    "colab_type": "code",
    "id": "FIleuCAjoFD8"
   },
   "outputs": [
    {
     "data": {
      "text/plain": [
       "'2.6.0'"
      ]
     },
     "execution_count": 2,
     "metadata": {},
     "output_type": "execute_result"
    }
   ],
   "source": [
    "tf.__version__"
   ]
  },
  {
   "cell_type": "markdown",
   "metadata": {
    "colab_type": "text",
    "id": "oxQxCBWyoGPE"
   },
   "source": [
    "## Part 1 - Data Preprocessing"
   ]
  },
  {
   "cell_type": "markdown",
   "metadata": {
    "colab_type": "text",
    "id": "MvE-heJNo3GG"
   },
   "source": [
    "### Preprocessing the Training set"
   ]
  },
  {
   "cell_type": "code",
   "execution_count": 3,
   "metadata": {
    "ExecuteTime": {
     "end_time": "2021-09-30T11:04:48.428510Z",
     "start_time": "2021-09-30T11:04:47.273639Z"
    },
    "colab": {},
    "colab_type": "code",
    "id": "0koUcJMJpEBD"
   },
   "outputs": [
    {
     "name": "stdout",
     "output_type": "stream",
     "text": [
      "Found 8000 images belonging to 2 classes.\n"
     ]
    }
   ],
   "source": [
    "train_datagen = ImageDataGenerator(rescale = 1./255,\n",
    "                                   shear_range = 0.2,\n",
    "                                   zoom_range = 0.2,\n",
    "                                   horizontal_flip = True)\n",
    "training_set = train_datagen.flow_from_directory('dataset/training_set',\n",
    "                                                 target_size = (64, 64),\n",
    "                                                 batch_size = 32,\n",
    "                                                 class_mode = 'binary')"
   ]
  },
  {
   "cell_type": "markdown",
   "metadata": {
    "colab_type": "text",
    "id": "mrCMmGw9pHys"
   },
   "source": [
    "### Preprocessing the Test set"
   ]
  },
  {
   "cell_type": "code",
   "execution_count": 4,
   "metadata": {
    "ExecuteTime": {
     "end_time": "2021-09-30T11:04:53.145956Z",
     "start_time": "2021-09-30T11:04:52.996619Z"
    },
    "colab": {},
    "colab_type": "code",
    "id": "SH4WzfOhpKc3"
   },
   "outputs": [
    {
     "name": "stdout",
     "output_type": "stream",
     "text": [
      "Found 2000 images belonging to 2 classes.\n"
     ]
    }
   ],
   "source": [
    "test_datagen = ImageDataGenerator(rescale = 1./255)\n",
    "test_set = test_datagen.flow_from_directory('dataset/test_set',\n",
    "                                            target_size = (64, 64),\n",
    "                                            batch_size = 32,\n",
    "                                            class_mode = 'binary')"
   ]
  },
  {
   "cell_type": "markdown",
   "metadata": {
    "colab_type": "text",
    "id": "af8O4l90gk7B"
   },
   "source": [
    "## Part 2 - Building the CNN"
   ]
  },
  {
   "cell_type": "markdown",
   "metadata": {
    "colab_type": "text",
    "id": "ces1gXY2lmoX"
   },
   "source": [
    "### Initialising the CNN"
   ]
  },
  {
   "cell_type": "code",
   "execution_count": 5,
   "metadata": {
    "ExecuteTime": {
     "end_time": "2021-09-30T11:04:56.792533Z",
     "start_time": "2021-09-30T11:04:56.534195Z"
    },
    "colab": {},
    "colab_type": "code",
    "id": "SAUt4UMPlhLS"
   },
   "outputs": [],
   "source": [
    "cnn = tf.keras.models.Sequential()"
   ]
  },
  {
   "cell_type": "markdown",
   "metadata": {
    "colab_type": "text",
    "id": "u5YJj_XMl5LF"
   },
   "source": [
    "### Step 1 - Convolution"
   ]
  },
  {
   "cell_type": "code",
   "execution_count": 6,
   "metadata": {
    "ExecuteTime": {
     "end_time": "2021-09-30T11:04:58.244565Z",
     "start_time": "2021-09-30T11:04:58.150365Z"
    },
    "colab": {},
    "colab_type": "code",
    "id": "XPzPrMckl-hV"
   },
   "outputs": [],
   "source": [
    "cnn.add(tf.keras.layers.Conv2D(filters=32, kernel_size=3, activation='relu', input_shape=[64, 64, 3]))"
   ]
  },
  {
   "cell_type": "markdown",
   "metadata": {
    "colab_type": "text",
    "id": "tf87FpvxmNOJ"
   },
   "source": [
    "### Step 2 - Pooling"
   ]
  },
  {
   "cell_type": "code",
   "execution_count": 7,
   "metadata": {
    "ExecuteTime": {
     "end_time": "2021-09-30T11:04:59.556427Z",
     "start_time": "2021-09-30T11:04:59.530443Z"
    },
    "colab": {},
    "colab_type": "code",
    "id": "ncpqPl69mOac"
   },
   "outputs": [],
   "source": [
    "cnn.add(tf.keras.layers.MaxPool2D(pool_size=2, strides=2))"
   ]
  },
  {
   "cell_type": "markdown",
   "metadata": {
    "colab_type": "text",
    "id": "xaTOgD8rm4mU"
   },
   "source": [
    "### Adding a second convolutional layer"
   ]
  },
  {
   "cell_type": "code",
   "execution_count": 8,
   "metadata": {
    "ExecuteTime": {
     "end_time": "2021-09-30T11:05:08.767987Z",
     "start_time": "2021-09-30T11:05:08.739990Z"
    },
    "colab": {},
    "colab_type": "code",
    "id": "i_-FZjn_m8gk"
   },
   "outputs": [],
   "source": [
    "cnn.add(tf.keras.layers.Conv2D(filters=32, kernel_size=3, activation='relu'))\n",
    "cnn.add(tf.keras.layers.MaxPool2D(pool_size=2, strides=2))\n",
    "\n",
    "cnn.add(tf.keras.layers.Conv2D(filters=32, kernel_size=3, activation='relu'))\n",
    "cnn.add(tf.keras.layers.MaxPool2D(pool_size=2, strides=2))\n",
    "\n",
    "cnn.add(tf.keras.layers.Conv2D(filters=32, kernel_size=3, activation='relu'))\n",
    "cnn.add(tf.keras.layers.MaxPool2D(pool_size=2, strides=2))"
   ]
  },
  {
   "cell_type": "markdown",
   "metadata": {
    "colab_type": "text",
    "id": "tmiEuvTunKfk"
   },
   "source": [
    "### Step 3 - Flattening"
   ]
  },
  {
   "cell_type": "code",
   "execution_count": 9,
   "metadata": {
    "ExecuteTime": {
     "end_time": "2021-09-30T11:05:10.103034Z",
     "start_time": "2021-09-30T11:05:10.064888Z"
    },
    "colab": {},
    "colab_type": "code",
    "id": "6AZeOGCvnNZn"
   },
   "outputs": [],
   "source": [
    "cnn.add(tf.keras.layers.Flatten())"
   ]
  },
  {
   "cell_type": "markdown",
   "metadata": {
    "colab_type": "text",
    "id": "dAoSECOm203v"
   },
   "source": [
    "### Step 4 - Full Connection"
   ]
  },
  {
   "cell_type": "code",
   "execution_count": 10,
   "metadata": {
    "ExecuteTime": {
     "end_time": "2021-09-30T11:05:11.637653Z",
     "start_time": "2021-09-30T11:05:11.598602Z"
    },
    "colab": {},
    "colab_type": "code",
    "id": "8GtmUlLd26Nq"
   },
   "outputs": [],
   "source": [
    "cnn.add(tf.keras.layers.Dense(units=128, activation='relu'))"
   ]
  },
  {
   "cell_type": "markdown",
   "metadata": {
    "colab_type": "text",
    "id": "yTldFvbX28Na"
   },
   "source": [
    "### Step 5 - Output Layer"
   ]
  },
  {
   "cell_type": "code",
   "execution_count": 11,
   "metadata": {
    "ExecuteTime": {
     "end_time": "2021-09-30T11:05:13.026167Z",
     "start_time": "2021-09-30T11:05:13.002156Z"
    },
    "colab": {},
    "colab_type": "code",
    "id": "1p_Zj1Mc3Ko_"
   },
   "outputs": [],
   "source": [
    "cnn.add(tf.keras.layers.Dense(units=1, activation='sigmoid'))"
   ]
  },
  {
   "cell_type": "markdown",
   "metadata": {
    "colab_type": "text",
    "id": "D6XkI90snSDl"
   },
   "source": [
    "## Part 3 - Training the CNN"
   ]
  },
  {
   "cell_type": "markdown",
   "metadata": {
    "colab_type": "text",
    "id": "vfrFQACEnc6i"
   },
   "source": [
    "### Compiling the CNN"
   ]
  },
  {
   "cell_type": "code",
   "execution_count": 12,
   "metadata": {
    "ExecuteTime": {
     "end_time": "2021-09-30T11:05:14.649347Z",
     "start_time": "2021-09-30T11:05:14.604092Z"
    },
    "colab": {},
    "colab_type": "code",
    "id": "NALksrNQpUlJ"
   },
   "outputs": [],
   "source": [
    "cnn.compile(optimizer = 'adam', loss = 'binary_crossentropy', metrics = ['accuracy'])"
   ]
  },
  {
   "cell_type": "markdown",
   "metadata": {
    "colab_type": "text",
    "id": "ehS-v3MIpX2h"
   },
   "source": [
    "### Training the CNN on the Training set and evaluating it on the Test set"
   ]
  },
  {
   "cell_type": "code",
   "execution_count": 13,
   "metadata": {
    "ExecuteTime": {
     "end_time": "2021-09-30T11:19:06.923519Z",
     "start_time": "2021-09-30T11:05:15.875193Z"
    },
    "colab": {},
    "colab_type": "code",
    "id": "XUj1W4PJptta"
   },
   "outputs": [
    {
     "name": "stdout",
     "output_type": "stream",
     "text": [
      "Epoch 1/25\n",
      "250/250 [==============================] - 62s 245ms/step - loss: 0.6612 - accuracy: 0.6005 - val_loss: 0.6283 - val_accuracy: 0.6425 loss: 0.6876 - accuracy: 0 - ETA: 36s - loss: 0.6853 - accuracy: 0.557 - ETA: 35s - lo - ETA: 30s - loss: 0.6845 - a - ETA: 27s - loss: 0.6807 - accuracy: 0.56 - ETA: 26s - loss: 0.6805 - accu - ETA: 23s - loss: 0.6774 - accuracy: 0. - ETA: 22s - loss: 0.6775 - accuracy: 0.57 - ETA: 22s - loss: 0.6778 - accur - ETA: 19s - loss: 0.6767 - accuracy: 0.57 - ETA: 19s - loss: 0.6763 - ETA: 15s - loss: 0.6753 - accuracy:  - ETA: 14s - loss: 0.6738  - ETA: 5s - loss: 0.665 - ETA: 3s - l\n",
      "Epoch 2/25\n",
      "250/250 [==============================] - 26s 104ms/step - loss: 0.5919 - accuracy: 0.6861 - val_loss: 0.5443 - val_accuracy: 0.7360oss: 0.5926 - accuracy: 0.68 - ETA: 17s - loss: 0.5930 - a - ETA: 12s - loss: 0.5950 - accuracy: 0.678 - ETA: 12s - loss: 0.5940 - accuracy: 0.6 - ETA: 12s - loss: 0.5942 - accuracy: 0.6 - ETA: 11s - loss: 0.5964 - accuracy: 0.67 - ETA: 11s - loss: 0.5960 - a - ETA: 10s - loss: 0.5958 - accuracy - ETA: 9s - loss: 0.5941 -  - ETA: 8s - loss: 0.593 - ETA: 7s - loss: 0.5927 - accura - ETA: 7s - loss: 0.5931 - accuracy - ETA: 7s - loss: 0.5925 - accura - ETA: 6s - loss: 0.5933 - accu\n",
      "Epoch 3/25\n",
      "250/250 [==============================] - 26s 105ms/step - loss: 0.5493 - accuracy: 0.7191 - val_loss: 0.5481 - val_accuracy: 0.7330 accuracy: 0.72 - ETA:  - ETA: 1s - loss: 0\n",
      "Epoch 4/25\n",
      "250/250 [==============================] - 25s 101ms/step - loss: 0.5218 - accuracy: 0.7385 - val_loss: 0.4833 - val_accuracy: 0.7685 ETA: 18s - loss: 0.5372 - ac - ETA: 17s - loss: 0.5435 - accuracy: 0.7 - ETA: 17s - loss: 0.5434 - accuracy: 0. - ETA: 16s - loss: 0.5409 - accu - ETA: 15s - loss: 0.542 - ETA: 13s - lo - ETA: 2s - loss: 0.5228 - accuracy: \n",
      "Epoch 5/25\n",
      "250/250 [==============================] - 25s 100ms/step - loss: 0.5010 - accuracy: 0.7561 - val_loss: 0.5067 - val_accuracy: 0.7585oss: 0.5110 - accuracy: 0.75 - ETA: 20s - loss: 0.5135 - accuracy: 0.75 - ETA: 20s - loss: 0.5256 - accuracy: 0.745 - ETA: 20s - loss: 0.5204 - accuracy: 0.7 - ETA: 20s - loss: 0.5081 - accuracy: 0.75 - ETA: 20s - loss: 0.518 - - ETA: 14s - loss: 0.4969  - ETA: 12s - loss: 0.4942 - accuracy: 0.762 - ETA: 12s - loss: 0.4937 - accuracy: 0. - ETA: 12s - loss: 0.4970 - ETA: 10s - loss: 0.5032 - ac - ETA: 9s - loss: 0.5085 - accuracy: 0.75 - ETA: 9s - loss: 0.5089 - accuracy: 0. - ETA: 9s - loss: 0.5110 - accuracy:  - ETA: 9s - loss: 0.5116 - accu - ETA: 8s - loss: 0.5135 - ac - ETA: 8s - loss: - - ETA: 4s - ETA: 1s - l\n",
      "Epoch 6/25\n",
      "250/250 [==============================] - 24s 96ms/step - loss: 0.4838 - accuracy: 0.7676 - val_loss: 0.4682 - val_accuracy: 0.7805\n",
      "Epoch 7/25\n",
      "250/250 [==============================] - 31s 123ms/step - loss: 0.4650 - accuracy: 0.7843 - val_loss: 0.4645 - val_accuracy: 0.7830 18s - l\n",
      "Epoch 8/25\n",
      "250/250 [==============================] - 28s 114ms/step - loss: 0.4412 - accuracy: 0.7897 - val_loss: 0.5043 - val_accuracy: 0.7590 25s - loss: 0.4285 - accuracy: 0 - ETA: 24s - loss: 0.4200 - accuracy: - ETA: 22s - loss: 0.4191 - accuracy: 0.817 -  - ETA: 17s - loss: 0.4310 - acc - ETA: 1 - ETA: 12s - loss: 0.4405 - accuracy:  - ETA: 11s - loss: 0.4401 - accuracy: 0.79 - ETA: 11s - loss: 0.\n",
      "Epoch 9/25\n",
      "250/250 [==============================] - 25s 101ms/step - loss: 0.4249 - accuracy: 0.7971 - val_loss: 0.5124 - val_accuracy: 0.7725 19s - loss: 0 - ETA: 1s - loss: 0\n",
      "Epoch 10/25\n",
      "250/250 [==============================] - 26s 103ms/step - loss: 0.4075 - accuracy: 0.8130 - val_loss: 0.5321 - val_accuracy: 0.75753s - loss: 0.3658 - accuracy:  - ETA: 22s - loss: 0.3719 - accuracy: 0. - ETA: 21s - loss: 0.3848 - accuracy: 0.822 - ETA: 21s - loss: 0.3841 - accuracy: 0.8 - ETA: 21s - loss: 0.3897 - accura - ETA: 20s - loss: 0.4054 - accuracy - ETA: 19s - loss: 0.4063 - accuracy: 0 - ETA: 18s - loss: 0.4110 - accuracy: 0.810 - ETA: 18s - loss: 0.4113 - accuracy: 0.809 - ET - ETA: 10s - loss: 0.4116  - ETA: 3s - E\n",
      "Epoch 11/25\n",
      "250/250 [==============================] - 25s 101ms/step - loss: 0.3983 - accuracy: 0.8150 - val_loss: 0.4560 - val_accuracy: 0.802021s - loss: - ETA: 19s - loss: 0.4137 - accuracy: 0.80 - ETA: 19s - loss: 0.4121 - accuracy: - ETA: 18s - loss: 0.40 - ETA: 16s - loss: 0.4109 - accuracy: 0.80 - ETA: 16s - loss: 0.4126 - accurac - ETA: 15s - loss: 0.4139 - accuracy: - ETA: 14  - ETA: 0s - loss: 0.3989 - accuracy: 0.81 - ETA: 0s - loss: 0.3986 - ac\n",
      "Epoch 12/25\n",
      "250/250 [==============================] - 26s 102ms/step - loss: 0.3869 - accuracy: 0.8235 - val_loss: 0.4610 - val_accuracy: 0.7910: 13s - loss: 0.3863 - accurac - ETA: 12s - loss: 0.3865 - accurac - ETA: 11 - ETA: 5s - loss: 0.3864  - ETA: 4s - loss: 0.3875 - accu - ETA: 4s - los - ETA: 2s - loss: 0.3879 - accuracy: 0.82 - ETA: 2s - loss: 0.3874 - accuracy - ETA: 2s - loss: 0.3874 - accura - ETA: 1s - loss: 0.3874 - accuracy:  - ETA: 1s - loss: 0.3878 - accuracy:  - ETA: 1s - loss: 0.3864 - accura - ETA: 0s - loss: 0.3861 \n",
      "Epoch 13/25\n",
      "250/250 [==============================] - 24s 96ms/step - loss: 0.3806 - accuracy: 0.8278 - val_loss: 0.4615 - val_accuracy: 0.7945\n",
      "Epoch 14/25\n",
      "250/250 [==============================] - 24s 95ms/step - loss: 0.3631 - accuracy: 0.8360 - val_loss: 0.5048 - val_accuracy: 0.7785\n",
      "Epoch 15/25\n",
      "250/250 [==============================] - 23s 94ms/step - loss: 0.3474 - accuracy: 0.8510 - val_loss: 0.4656 - val_accuracy: 0.7970\n",
      "Epoch 16/25\n",
      "250/250 [==============================] - 23s 94ms/step - loss: 0.3433 - accuracy: 0.8470 - val_loss: 0.4641 - val_accuracy: 0.8055\n",
      "Epoch 17/25\n",
      "250/250 [==============================] - 23s 94ms/step - loss: 0.3267 - accuracy: 0.8545 - val_loss: 0.5220 - val_accuracy: 0.7855\n",
      "Epoch 18/25\n",
      "250/250 [==============================] - 24s 94ms/step - loss: 0.3170 - accuracy: 0.8650 - val_loss: 0.4640 - val_accuracy: 0.8000\n",
      "Epoch 19/25\n",
      "250/250 [==============================] - 23s 93ms/step - loss: 0.3010 - accuracy: 0.8692 - val_loss: 0.4956 - val_accuracy: 0.8070\n",
      "Epoch 20/25\n",
      "250/250 [==============================] - 24s 95ms/step - loss: 0.3015 - accuracy: 0.8721 - val_loss: 0.4939 - val_accuracy: 0.8015\n",
      "Epoch 21/25\n",
      "250/250 [==============================] - 24s 95ms/step - loss: 0.2834 - accuracy: 0.8758 - val_loss: 0.5129 - val_accuracy: 0.7995\n",
      "Epoch 22/25\n",
      "250/250 [==============================] - 24s 94ms/step - loss: 0.2717 - accuracy: 0.8820 - val_loss: 0.5742 - val_accuracy: 0.7865\n",
      "Epoch 23/25\n",
      "250/250 [==============================] - 23s 94ms/step - loss: 0.2689 - accuracy: 0.8849 - val_loss: 0.5322 - val_accuracy: 0.8045\n",
      "Epoch 24/25\n",
      "250/250 [==============================] - 24s 95ms/step - loss: 0.2518 - accuracy: 0.8949 - val_loss: 0.5170 - val_accuracy: 0.8060.2494 - \n",
      "Epoch 25/25\n",
      "250/250 [==============================] - 24s 96ms/step - loss: 0.2432 - accuracy: 0.9000 - val_loss: 0.5337 - val_accuracy: 0.8110\n"
     ]
    },
    {
     "data": {
      "text/plain": [
       "<keras.callbacks.History at 0x1cdb25e0780>"
      ]
     },
     "execution_count": 13,
     "metadata": {},
     "output_type": "execute_result"
    }
   ],
   "source": [
    "cnn.fit(x = training_set, validation_data = test_set, epochs = 25)"
   ]
  },
  {
   "cell_type": "markdown",
   "metadata": {
    "colab_type": "text",
    "id": "U3PZasO0006Z"
   },
   "source": [
    "## Part 4 - Making a single prediction"
   ]
  },
  {
   "cell_type": "code",
   "execution_count": 22,
   "metadata": {
    "ExecuteTime": {
     "end_time": "2021-09-30T11:33:34.229796Z",
     "start_time": "2021-09-30T11:33:34.179759Z"
    },
    "colab": {},
    "colab_type": "code",
    "id": "gsSiWEJY1BPB"
   },
   "outputs": [],
   "source": [
    "import numpy as np\n",
    "from keras.preprocessing import image\n",
    "test_image = image.load_img('dataset/single_prediction/cat_or_dog_1.jpg', target_size = (64, 64))\n",
    "test_image = image.img_to_array(test_image)\n",
    "test_image = np.expand_dims(test_image, axis = 0)\n",
    "result = cnn.predict(test_image)\n",
    "training_set.class_indices\n",
    "if result[0][0] == 1: ## pred = (model.predict(input_arr) > 0.5).astype(\"int32\")#Problem solved\n",
    "  prediction = 'dog'\n",
    "else:\n",
    "  prediction = 'cat'"
   ]
  },
  {
   "cell_type": "code",
   "execution_count": 23,
   "metadata": {
    "ExecuteTime": {
     "end_time": "2021-09-30T11:33:37.069138Z",
     "start_time": "2021-09-30T11:33:37.059137Z"
    },
    "colab": {},
    "colab_type": "code",
    "id": "ED9KB3I54c1i"
   },
   "outputs": [
    {
     "name": "stdout",
     "output_type": "stream",
     "text": [
      "dog\n"
     ]
    }
   ],
   "source": [
    "print(prediction)"
   ]
  },
  {
   "cell_type": "code",
   "execution_count": 42,
   "metadata": {
    "ExecuteTime": {
     "end_time": "2021-09-30T12:22:23.754767Z",
     "start_time": "2021-09-30T12:22:23.743768Z"
    }
   },
   "outputs": [],
   "source": [
    "from keras.models import load_model"
   ]
  },
  {
   "cell_type": "code",
   "execution_count": 51,
   "metadata": {
    "ExecuteTime": {
     "end_time": "2021-09-30T12:26:55.359301Z",
     "start_time": "2021-09-30T12:26:55.263782Z"
    }
   },
   "outputs": [
    {
     "ename": "SyntaxError",
     "evalue": "'return' outside function (<ipython-input-51-2aca9cbdd8a7>, line 12)",
     "output_type": "error",
     "traceback": [
      "\u001b[1;36m  File \u001b[1;32m\"<ipython-input-51-2aca9cbdd8a7>\"\u001b[1;36m, line \u001b[1;32m12\u001b[0m\n\u001b[1;33m    return True\u001b[0m\n\u001b[1;37m    ^\u001b[0m\n\u001b[1;31mSyntaxError\u001b[0m\u001b[1;31m:\u001b[0m 'return' outside function\n"
     ]
    }
   ],
   "source": [
    "import numpy as np\n",
    "from keras.preprocessing import image\n",
    "test_image = image.load_img('dataset/single_prediction/cat_or_dog_1.jpg', target_size = (64, 64))\n",
    "test_image = image.img_to_array(test_image)\n",
    "test_image = np.expand_dims(test_image, axis = 0)\n",
    "result = cnn.predict(test_image)\n",
    "training_set.class_indices\n",
    "\n",
    "#TRY predictions = (model.predict(X_test) > 0.5).astype(\"int32\")\n",
    "prediction = ((test_image) > 0.5).astype(\"int32\")\n",
    "if prediction==0:\n",
    "    return True\n",
    "else:\n",
    "    return False"
   ]
  },
  {
   "cell_type": "code",
   "execution_count": 38,
   "metadata": {
    "ExecuteTime": {
     "end_time": "2021-09-30T12:11:56.473854Z",
     "start_time": "2021-09-30T12:11:56.455810Z"
    }
   },
   "outputs": [
    {
     "name": "stdout",
     "output_type": "stream",
     "text": [
      "dog\n"
     ]
    }
   ],
   "source": [
    "print(prediction)"
   ]
  },
  {
   "cell_type": "code",
   "execution_count": null,
   "metadata": {},
   "outputs": [],
   "source": []
  }
 ],
 "metadata": {
  "colab": {
   "collapsed_sections": [],
   "name": "convolutional_neural_network.ipynb",
   "provenance": [],
   "toc_visible": true
  },
  "kernelspec": {
   "display_name": "Python 3",
   "language": "python",
   "name": "python3"
  },
  "language_info": {
   "codemirror_mode": {
    "name": "ipython",
    "version": 3
   },
   "file_extension": ".py",
   "mimetype": "text/x-python",
   "name": "python",
   "nbconvert_exporter": "python",
   "pygments_lexer": "ipython3",
   "version": "3.6.13"
  },
  "toc": {
   "base_numbering": 1,
   "nav_menu": {},
   "number_sections": true,
   "sideBar": true,
   "skip_h1_title": false,
   "title_cell": "Table of Contents",
   "title_sidebar": "Contents",
   "toc_cell": false,
   "toc_position": {},
   "toc_section_display": true,
   "toc_window_display": false
  },
  "varInspector": {
   "cols": {
    "lenName": 16,
    "lenType": 16,
    "lenVar": 40
   },
   "kernels_config": {
    "python": {
     "delete_cmd_postfix": "",
     "delete_cmd_prefix": "del ",
     "library": "var_list.py",
     "varRefreshCmd": "print(var_dic_list())"
    },
    "r": {
     "delete_cmd_postfix": ") ",
     "delete_cmd_prefix": "rm(",
     "library": "var_list.r",
     "varRefreshCmd": "cat(var_dic_list()) "
    }
   },
   "types_to_exclude": [
    "module",
    "function",
    "builtin_function_or_method",
    "instance",
    "_Feature"
   ],
   "window_display": false
  }
 },
 "nbformat": 4,
 "nbformat_minor": 1
}
